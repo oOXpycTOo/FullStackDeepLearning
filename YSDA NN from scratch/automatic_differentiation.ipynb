{
 "cells": [
  {
   "cell_type": "markdown",
   "metadata": {},
   "source": [
    "# Homework 1: Differentiation"
   ]
  },
  {
   "cell_type": "markdown",
   "metadata": {},
   "source": [
    "Since it easy to google every task please please please try to undestand what's going on. The \"just answer\" thing will be not counted, make sure to present derivation of your solution. It is absolutely OK if you found an answer on web then just exercise in $\\LaTeX$ copying it into here."
   ]
  },
  {
   "cell_type": "markdown",
   "metadata": {},
   "source": [
    "Useful links: \n",
    "[1](http://www.machinelearning.ru/wiki/images/2/2a/Matrix-Gauss.pdf)\n",
    "[2](http://www.atmos.washington.edu/~dennis/MatrixCalculus.pdf)\n",
    "[3](http://cal.cs.illinois.edu/~johannes/research/matrix%20calculus.pdf)\n",
    "[4](http://research.microsoft.com/en-us/um/people/cmbishop/prml/index.htm)"
   ]
  },
  {
   "cell_type": "markdown",
   "metadata": {},
   "source": [
    "## ex. 1"
   ]
  },
  {
   "cell_type": "markdown",
   "metadata": {},
   "source": [
    "$$  \n",
    "y = x^Tx,  \\quad x \\in \\mathbb{R}^N \n",
    "$$"
   ]
  },
  {
   "cell_type": "markdown",
   "metadata": {},
   "source": [
    "$$\n",
    "\\frac{dy}{dx} = \n",
    "$$ "
   ]
  },
  {
   "cell_type": "markdown",
   "metadata": {
    "collapsed": true
   },
   "source": [
    "$$ \\frac{dy}{dx} = \\frac{d(x^Tx)}{dx} = \\frac{\\sum_{i = 1}^N x_i^2}{dx} = 2 x $$"
   ]
  },
  {
   "cell_type": "markdown",
   "metadata": {},
   "source": [
    "## ex. 2"
   ]
  },
  {
   "cell_type": "markdown",
   "metadata": {},
   "source": [
    "$$ y = tr(AB) \\quad A,B \\in \\mathbb{R}^{N \\times N} $$ "
   ]
  },
  {
   "cell_type": "markdown",
   "metadata": {},
   "source": [
    "$$\n",
    "tr(AB) = tr\\left(\n",
    "\\begin{bmatrix}\n",
    "a_1^T \\\\\n",
    "a_2^T \\\\\n",
    "... \\\\\n",
    "a_N^T\n",
    "\\end{bmatrix}\n",
    "\\begin{bmatrix}\n",
    "b_1 & b_2 & b_3 & ... & b_N\n",
    "\\end{bmatrix}\n",
    "\\right) = \n",
    "\\sum_{i = 1}^N a_i^T b_i = \\sum_{i = 1}^N \\sum_{j = 1}^N a_{ij} b_{ji}\n",
    "$$\n",
    "\n",
    "$$\n",
    "\\frac{d\\left(\\sum_{i = 1}^N \\sum_{j = 1}^N a_{ij} b_{ji}\\right)}{dA} = B^T\n",
    "$$"
   ]
  },
  {
   "cell_type": "markdown",
   "metadata": {
    "collapsed": true
   },
   "source": [
    "$ a_i^T $ - строка матрицы $ A $, $ b_j $ - столбец матрицы $ B $."
   ]
  },
  {
   "cell_type": "markdown",
   "metadata": {},
   "source": [
    "## ex. 3"
   ]
  },
  {
   "cell_type": "markdown",
   "metadata": {},
   "source": [
    "$$  \n",
    "y = x^TAc , \\quad A\\in \\mathbb{R}^{N \\times N}, x\\in \\mathbb{R}^{N}, c\\in \\mathbb{R}^{N} \n",
    "$$"
   ]
  },
  {
   "cell_type": "markdown",
   "metadata": {},
   "source": [
    "$$ \n",
    "x^T A c = x^T\n",
    "\\begin{bmatrix}\n",
    "a_1^T c \\\\\n",
    "a_2^T c \\\\\n",
    "... \\\\\n",
    "a_N^T c\n",
    "\\end{bmatrix} =\n",
    "x^T\n",
    "\\begin{bmatrix}\n",
    "\\sum_{i = 1}^N a_{1i}^T c_i \\\\\n",
    "\\sum_{i = 1}^N a_{2i}^T c_i \\\\\n",
    "... \\\\\n",
    "\\sum_{i = 1}^N a_{Ni}^T c_i\n",
    "\\end{bmatrix} = \n",
    "\\sum_{i = 1}^N x_i \\left(\\sum_{j = 1}^N a_{ij} c_j \\right)\n",
    "$$"
   ]
  },
  {
   "cell_type": "markdown",
   "metadata": {},
   "source": [
    "$$\n",
    "\\frac{dy}{dx} =\n",
    "\\begin{bmatrix}\n",
    "\\sum_{i = 1}^N a_{1i}^T c_i \\\\\n",
    "\\sum_{i = 1}^N a_{2i}^T c_i \\\\\n",
    "... \\\\\n",
    "\\sum_{i = 1}^N a_{Ni}^T c_i\n",
    "\\end{bmatrix}\n",
    "= Ac\n",
    "$$"
   ]
  },
  {
   "cell_type": "markdown",
   "metadata": {},
   "source": [
    "$$\n",
    "\\frac{dy}{da_{pq}} = \\frac{d\\left(\\sum_{i = 1}^N x_i \\left(\\sum_{j = 1}^N a_{ij} c_j \\right)\\right)}{da_{pq}}\n",
    "= x_p c_q\n",
    "$$ "
   ]
  },
  {
   "cell_type": "markdown",
   "metadata": {},
   "source": [
    "Откуда выходит, что:\n",
    "\n",
    "$$\n",
    "\\frac{dy}{dA} = x c^T\n",
    "$$"
   ]
  },
  {
   "cell_type": "markdown",
   "metadata": {},
   "source": [
    "## ex. 4"
   ]
  },
  {
   "cell_type": "markdown",
   "metadata": {},
   "source": [
    "Classic matrix factorization example. Given matrix $X$ you need to find $A$, $S$ to approximate $X$. This can be done by simple gradient descent iteratively alternating $A$ and $S$ updates.\n",
    "$$\n",
    "J = || X - AS ||_F^2  , \\quad A\\in \\mathbb{R}^{N \\times R} , \\quad S\\in \\mathbb{R}^{R \\times M}\n",
    "$$\n",
    "$$\n",
    "\\frac{dJ}{dS} = ? \n",
    "$$ "
   ]
  },
  {
   "cell_type": "markdown",
   "metadata": {},
   "source": [
    "### First approach\n",
    "Using ex.2 and the fact:\n",
    "$$\n",
    "|| X ||_F^2 = tr(XX^T) \n",
    "$$ \n",
    "it is easy to derive gradients (you can find it in one of the refs). "
   ]
  },
  {
   "cell_type": "markdown",
   "metadata": {},
   "source": [
    "$$\n",
    "d(tr(FF^T)) = tr(d(FF^T)) = tr(dFF^T + Fd(F^T)) = \\left[tr(A + B) = tr(A) + tr(B) \\right] = tr(F^TdF) + tr((dF)^T F) =\n",
    "\\left[tr(A^T B) = \\sum_{ij} (A \\odot B)_{ij} = \\langle A, B \\rangle \\right] = \\langle F, dF \\rangle + \\langle dF, F \\rangle = 2 \\langle F, dF \\rangle = \\langle 2 F, dF \\rangle\n",
    "$$\n",
    "\n",
    "Откуда\n",
    "$ \\nabla tr(FF^T) = 2F $\n",
    "\n",
    "$$\n",
    "d(X - AS) = -AdS\n",
    "$$\n",
    "\n",
    "Подставляем в полученное ранее выражение (вместо F и dF):\n",
    "\n",
    "$$\n",
    "\\langle 2 (X - AS), -AdS \\rangle = -2 tr((X - AS)^T A dS) = \\langle -2 A^T (X - AS), dS \\rangle\n",
    "$$\n",
    "\n",
    "Откуда:\n",
    "$ \\frac{dJ}{dS} = -2 A^T (X - AS) $"
   ]
  },
  {
   "cell_type": "markdown",
   "metadata": {
    "collapsed": true
   },
   "source": [
    "### Second approach\n",
    "You can use *slightly different techniques* if they suits you. Take a look at this derivation:\n",
    "<img src=\"grad.png\">\n",
    "(excerpt from [Handbook of blind source separation, Jutten, page 517](https://books.google.ru/books?id=PTbj03bYH6kC&printsec=frontcover&dq=Handbook+of+Blind+Source+Separation&hl=en&sa=X&ved=0ahUKEwi-q_apiJDLAhULvXIKHVXJDWcQ6AEIHDAA#v=onepage&q=Handbook%20of%20Blind%20Source%20Separation&f=false), open for better picture)."
   ]
  },
  {
   "cell_type": "markdown",
   "metadata": {
    "collapsed": true
   },
   "source": [
    "### Third approach\n",
    "And finally we can use chain rule! **YOUR TURN** to do it.\n",
    "let $ F = X - AS $ \n",
    "\n",
    "**Find**\n",
    "$$\n",
    "\\frac{dJ}{dF} = \\frac{d\\left(\\sum_{i = 1}^N \\sum_{j = 1}^N f_{ij} f_{ji}\\right)}{dF} = 2 F = 2 (X - AS)\n",
    "$$ \n",
    "and \n",
    "$$\n",
    "\\frac{dF}{dS} = -I \\otimes A\n",
    "$$ \n",
    "(the shape should be $ NM \\times RM )$.\n",
    "\n",
    "Now it is easy do get desired gradients:\n",
    "$$\n",
    "\\frac{dJ}{dS} =  - 2 (X - AS) (I \\otimes A)\n",
    "$$ "
   ]
  }
 ],
 "metadata": {
  "kernelspec": {
   "display_name": "Python 2",
   "language": "python",
   "name": "python2"
  },
  "language_info": {
   "codemirror_mode": {
    "name": "ipython",
    "version": 2
   },
   "file_extension": ".py",
   "mimetype": "text/x-python",
   "name": "python",
   "nbconvert_exporter": "python",
   "pygments_lexer": "ipython2",
   "version": "2.7.6"
  }
 },
 "nbformat": 4,
 "nbformat_minor": 1
}
